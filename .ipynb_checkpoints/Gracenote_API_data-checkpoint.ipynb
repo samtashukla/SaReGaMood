{
 "cells": [
  {
   "cell_type": "markdown",
   "metadata": {},
   "source": [
    "\n",
    "# Python API\n",
    "Using pygn from https://github.com/cweichen/pygn"
   ]
  },
  {
   "cell_type": "code",
   "execution_count": 112,
   "metadata": {
    "collapsed": true
   },
   "outputs": [],
   "source": [
    "import sys\n",
    "\n",
    "import numpy as np\n",
    "import pandas as pd\n",
    "import datetime\n",
    "import time\n",
    "\n",
    "# music api imports\n",
    "import spotipy\n",
    "import spotipy.util as util\n",
    "import pygn\n",
    "#import pylast\n",
    "\n",
    "# import requests\n",
    "#import requests\n",
    "#import re\n",
    "from time import sleep\n",
    "import pickle\n",
    "\n",
    "# import python files\n",
    "import dbutils\n",
    "\n",
    "import matplotlib.pyplot as plt\n",
    "import seaborn as sns\n",
    "%matplotlib inline\n",
    "\n"
   ]
  },
  {
   "cell_type": "code",
   "execution_count": 113,
   "metadata": {
    "collapsed": true
   },
   "outputs": [],
   "source": [
    "clientID = '18404282-D215A8393036073C7D4008B567ADB278' # Enter your Client ID here\n",
    "#userID = pygn.register(clientID)\n",
    "userID= '91860226739687882-7862D6C2BEF5300543BC0BFE3BE6F36D'"
   ]
  },
  {
   "cell_type": "code",
   "execution_count": 114,
   "metadata": {
    "collapsed": true
   },
   "outputs": [],
   "source": [
    "def get_full_path():\n",
    "    return \"/Users/feelharmonic/Dropbox/Insight2018/SaReGaMood/IndianClassicalMusic/Week2/playlist_data\""
   ]
  },
  {
   "cell_type": "code",
   "execution_count": 115,
   "metadata": {
    "collapsed": true
   },
   "outputs": [],
   "source": [
    "metadata = pygn.search(clientID=clientID, userID=userID, artist='Kings Of Convenience', album='Riot On An Empty Street', track='Homesick')"
   ]
  },
  {
   "cell_type": "markdown",
   "metadata": {},
   "source": [
    "The search function requires a clientID, userID, and at least one of either artist, album, or track to be specified."
   ]
  },
  {
   "cell_type": "code",
   "execution_count": 116,
   "metadata": {
    "collapsed": true
   },
   "outputs": [],
   "source": [
    "metadata = pygn.search(clientID=clientID, userID=userID, artist='Jaga Jazzist', album='What We Must')\n",
    "#print(metadata)"
   ]
  },
  {
   "cell_type": "code",
   "execution_count": 117,
   "metadata": {
    "collapsed": true
   },
   "outputs": [],
   "source": [
    "# timing function\n",
    "def timefunc(f):\n",
    "    def f_timer(*args, **kwargs):\n",
    "        start = time.time()\n",
    "        result = f(*args, **kwargs)\n",
    "        end = time.time()\n",
    "        print(f.__name__, 'took', end - start, 'seconds')\n",
    "        return result\n",
    "    return f_timer"
   ]
  },
  {
   "cell_type": "code",
   "execution_count": 118,
   "metadata": {
    "collapsed": true
   },
   "outputs": [],
   "source": [
    "# Setting up tokens and authorization\n",
    "\n",
    "# Gracenote\n",
    "clientid = '18404282-D215A8393036073C7D4008B567ADB278'\n",
    "# userid = pygn.register(clientid)\n",
    "userid = '40350305677161399-FBEEF011A5EE5144578CE45E3A2EC94D'\n",
    "\n"
   ]
  },
  {
   "cell_type": "code",
   "execution_count": 280,
   "metadata": {
    "collapsed": true
   },
   "outputs": [],
   "source": [
    "# Get track info from gracenote\n",
    "# NOTE: Gracenote API has built-in fuzzy matching to artist and track.\n",
    "from collections import defaultdict\n",
    "\n",
    "def get_gn_multiple(search, dictionary, item):\n",
    "    '''\n",
    "    Helper function to get multiple items within Gracenote record\n",
    "    '''\n",
    "    #print(\"~~~~~~\", \"item = \", str(item), \"\\n\", \"searchitem = \", str(search[item]), \"~~~~~~\\n\")\n",
    "    #for i in search[item].iteritems():\n",
    "    #    print(\"itemi[0] =\", item + \"_\"+i[0])\n",
    "    #    print(\"i1text =\", i[1]['TEXT'])\n",
    "    #    dictionary[item + '_' + i[0]] = i[1]['TEXT']\n",
    "    for k, v in search[item].items():\n",
    "        #print(\"k, v = \", k, v)\n",
    "        dictionary[item + '_' + k] = v['TEXT']\n",
    "\n",
    "def get_gn(artist, track):\n",
    "    '''\n",
    "    Gets artist and track information from Gracenote\n",
    "    '''\n",
    "    gn_dict = defaultdict(list)\n",
    "    gn_info = pygn.search(clientid, userid, artist=artist, track=track)\n",
    "    #print(\"gn_info = \", str(gn_info))\n",
    "\n",
    "    gn_dict['gnid'] = gn_info['track_gnid']\n",
    "#     print(\"gn_info = \", str(gn_info))\n",
    "    #print(\"gn_dict = \", str(gn_dict), \"======\\n\")\n",
    "\n",
    "    # artist specific info\n",
    "    # for a in ['artist_origin', 'artist_type', 'artist_era']:\n",
    "    #    get_gn_multiple(gn_info, gn_dict, a)\n",
    "    \n",
    "    # track specific info\n",
    "#     for s in ['genre', 'mood', 'tempo']: # can potentially drop 'tempo' since Spotify has already captured this\n",
    "    for s in ['mood']:  \n",
    "        #print(\"Getting moody stuff\")\n",
    "        get_gn_multiple(gn_info, gn_dict, s)      \n",
    "\n",
    "#     print(\"gn_dict = \", str(gn_dict), \"======\\n\")\n",
    "    return dict(gn_dict)"
   ]
  },
  {
   "cell_type": "code",
   "execution_count": 282,
   "metadata": {
    "collapsed": true
   },
   "outputs": [],
   "source": [
    "@timefunc\n",
    "def append_gn_df(df):\n",
    "    '''\n",
    "    Creates dataframe with artist and track information from Gracenote\n",
    "    '''\n",
    "    d = {}\n",
    "#     print(\"append : \", type(df))\n",
    "    for index, row in df.iterrows():\n",
    "        try:\n",
    "            #print(row['name'], row['artist_name'])\n",
    "            #print(\"row[id] = \", row['id'])\n",
    "            d[row['id']] = get_gn(row['artist_name'], row['name'])\n",
    "#             print(\"d[row['id']] = \", d[row['id']])\n",
    "        except:\n",
    "            print(\"Some issue in append_gn_df\")\n",
    "            pass\n",
    "    gn_df = pd.DataFrame(d).transpose().reset_index()\n",
    "    gn_df = gn_df.rename(columns = {'index' : 'id'})\n",
    "    return gn_df"
   ]
  },
  {
   "cell_type": "code",
   "execution_count": null,
   "metadata": {
    "collapsed": true
   },
   "outputs": [],
   "source": [
    "@timefunc\n",
    "def chunk_gn_df(df, start, stop, step=100):\n",
    "    '''\n",
    "    Gets Gracenote dataframe from dataframe with spotify IDs and merges them, indexing based on Spotify dataframe\n",
    "    '''\n",
    "    full_songs = pd.DataFrame()\n",
    "    for i in range(start, stop, step):\n",
    "        myslice = [x for x in range(i, i+step)]\n",
    "        #print(\"chunk: \", type((df.loc[i].to_frame())))\n",
    "        #gn = append_gn_df(df.loc[i].to_frame())#, attach = False)\n",
    "        #print(df.iloc[myslice].to_string())\n",
    "        gn = append_gn_df(df.iloc[myslice])\n",
    "        print(\"gn = \", str(gn), \"==================\")\n",
    "#         print(type(gn), type(df))\n",
    "#         for idx, gnrow in gn.iterrows():\n",
    "#             print(gnrow['id'], gnrow['gnid'])\n",
    "        data = pd.merge(df, gn, on='id')\n",
    "        full_songs = full_songs.append(data, ignore_index=True)\n",
    "        #full_songs.to_pickle('data/full_songs_df_' + str(myslice[-1]) + '.pkl')\n",
    "        sleep(.1)"
   ]
  },
  {
   "cell_type": "code",
   "execution_count": 274,
   "metadata": {
    "collapsed": true
   },
   "outputs": [],
   "source": [
    "con = dbutils.get_db_handle()\n",
    "#querystr = \"select id, name, artist_name from alltracks where name like \\'%Tarana%\\' OR name like \\'%Tillana%\\' OR name like \\'%Thillana%\\'\"\n",
    "querystr = \"select id, name, artist_name from alltracks where name like \\'%Alap%\\' OR name like \\'%Khayal%\\' OR name like \\'%Khyal%\\'\"\n",
    "df = dbutils.query_db_translate_to_pandas(con, querystr)\n",
    "# print(df.to_string())\n",
    "dbutils.close_db(con)"
   ]
  },
  {
   "cell_type": "code",
   "execution_count": 275,
   "metadata": {},
   "outputs": [
    {
     "name": "stdout",
     "output_type": "stream",
     "text": [
      "append_gn_df took 6.29734992980957 seconds\n",
      "append_gn_df took 70.43506002426147 seconds\n"
     ]
    }
   ],
   "source": [
    "test = df[:10].copy()\n",
    "test_gn_df = append_gn_df(test)\n",
    "test2 = df[:100].copy()\n",
    "test_gn_df2 = append_gn_df(test2)"
   ]
  },
  {
   "cell_type": "code",
   "execution_count": 276,
   "metadata": {
    "scrolled": false
   },
   "outputs": [
    {
     "name": "stdout",
     "output_type": "stream",
     "text": [
      "(1377, 3)\n"
     ]
    }
   ],
   "source": [
    "print(df.shape)"
   ]
  },
  {
   "cell_type": "code",
   "execution_count": null,
   "metadata": {
    "scrolled": true
   },
   "outputs": [
    {
     "name": "stdout",
     "output_type": "stream",
     "text": [
      "(80, 3)\n",
      "gn_dict =  defaultdict(<class 'list'>, {'gnid': '31240537-5336C141500B3F408B437BED896077CB', 'mood_1': 'Peaceful', 'mood_2': 'Quiet / Introspective'}) ======\n",
      "\n",
      "d[row['id']] =  {'gnid': '31240537-5336C141500B3F408B437BED896077CB', 'mood_1': 'Peaceful', 'mood_2': 'Quiet / Introspective'}\n",
      "gn_dict =  defaultdict(<class 'list'>, {'gnid': '4951315-0AA9B2427BFEF9E5763A72676EB1ADDA', 'mood_1': 'Serious', 'mood_2': 'Serious / Cerebral'}) ======\n",
      "\n",
      "d[row['id']] =  {'gnid': '4951315-0AA9B2427BFEF9E5763A72676EB1ADDA', 'mood_1': 'Serious', 'mood_2': 'Serious / Cerebral'}\n",
      "gn_dict =  defaultdict(<class 'list'>, {'gnid': '541200353-8E97E06B2DD8814A417D5045A47770D2', 'mood_1': 'Peaceful', 'mood_2': 'Quiet / Introspective'}) ======\n",
      "\n",
      "d[row['id']] =  {'gnid': '541200353-8E97E06B2DD8814A417D5045A47770D2', 'mood_1': 'Peaceful', 'mood_2': 'Quiet / Introspective'}\n",
      "gn_dict =  defaultdict(<class 'list'>, {'gnid': '12992289-3F2FDF52D89DAAB0C845AEFD7213C58F', 'mood_1': 'Serious', 'mood_2': 'Hypnotic Rhythm'}) ======\n",
      "\n",
      "d[row['id']] =  {'gnid': '12992289-3F2FDF52D89DAAB0C845AEFD7213C58F', 'mood_1': 'Serious', 'mood_2': 'Hypnotic Rhythm'}\n",
      "gn_dict =  defaultdict(<class 'list'>, {'gnid': '485254889-4882F1C10069F8D7EBA991B9305AB7FE', 'mood_1': 'Peaceful', 'mood_2': 'Quiet / Introspective'}) ======\n",
      "\n",
      "d[row['id']] =  {'gnid': '485254889-4882F1C10069F8D7EBA991B9305AB7FE', 'mood_1': 'Peaceful', 'mood_2': 'Quiet / Introspective'}\n",
      "gn_dict =  defaultdict(<class 'list'>, {'gnid': '34301521-5AC4CB0769019461D17D2A99E938F6D4', 'mood_1': 'Peaceful', 'mood_2': 'Quiet / Introspective'}) ======\n",
      "\n",
      "d[row['id']] =  {'gnid': '34301521-5AC4CB0769019461D17D2A99E938F6D4', 'mood_1': 'Peaceful', 'mood_2': 'Quiet / Introspective'}\n",
      "gn_dict =  defaultdict(<class 'list'>, {'gnid': '349401218-41E101BFA2116FB0A7A59AF8B3E77B75', 'mood_1': 'Peaceful', 'mood_2': 'Quiet / Introspective'}) ======\n",
      "\n",
      "d[row['id']] =  {'gnid': '349401218-41E101BFA2116FB0A7A59AF8B3E77B75', 'mood_1': 'Peaceful', 'mood_2': 'Quiet / Introspective'}\n",
      "gn_dict =  defaultdict(<class 'list'>, {'gnid': '96995694-A3125A24F4F157CD43F10F33E3BD6435', 'mood_1': 'Peaceful', 'mood_2': 'Quiet / Introspective'}) ======\n",
      "\n",
      "d[row['id']] =  {'gnid': '96995694-A3125A24F4F157CD43F10F33E3BD6435', 'mood_1': 'Peaceful', 'mood_2': 'Quiet / Introspective'}\n",
      "gn_dict =  defaultdict(<class 'list'>, {'gnid': '429990310-698EB8424A51B737764DE6528F8A6A69'}) ======\n",
      "\n",
      "d[row['id']] =  {'gnid': '429990310-698EB8424A51B737764DE6528F8A6A69'}\n",
      "gn_dict =  defaultdict(<class 'list'>, {'gnid': '511695057-95325C34532B3A7F201FADE52D993D60', 'mood_1': 'Peaceful', 'mood_2': 'Quiet / Introspective'}) ======\n",
      "\n",
      "d[row['id']] =  {'gnid': '511695057-95325C34532B3A7F201FADE52D993D60', 'mood_1': 'Peaceful', 'mood_2': 'Quiet / Introspective'}\n"
     ]
    }
   ],
   "source": [
    "test3 = df[:80].copy()\n",
    "print(test3.shape)\n",
    "test = chunk_gn_df(test3, 0, test3.shape[0], 40)\n",
    "# print(test3)"
   ]
  },
  {
   "cell_type": "code",
   "execution_count": null,
   "metadata": {
    "collapsed": true
   },
   "outputs": [],
   "source": []
  },
  {
   "cell_type": "code",
   "execution_count": null,
   "metadata": {
    "collapsed": true
   },
   "outputs": [],
   "source": []
  }
 ],
 "metadata": {
  "kernelspec": {
   "display_name": "Python 3",
   "language": "python",
   "name": "python3"
  },
  "language_info": {
   "codemirror_mode": {
    "name": "ipython",
    "version": 3
   },
   "file_extension": ".py",
   "mimetype": "text/x-python",
   "name": "python",
   "nbconvert_exporter": "python",
   "pygments_lexer": "ipython3",
   "version": "3.6.3"
  }
 },
 "nbformat": 4,
 "nbformat_minor": 2
}
