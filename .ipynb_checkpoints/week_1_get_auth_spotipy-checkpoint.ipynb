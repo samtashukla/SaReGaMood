{
 "cells": [
  {
   "cell_type": "code",
   "execution_count": 29,
   "metadata": {},
   "outputs": [
    {
     "ename": "SyntaxError",
     "evalue": "positional argument follows keyword argument (<ipython-input-29-df7fb3863b63>, line 30)",
     "output_type": "error",
     "traceback": [
      "\u001b[0;36m  File \u001b[0;32m\"<ipython-input-29-df7fb3863b63>\"\u001b[0;36m, line \u001b[0;32m30\u001b[0m\n\u001b[0;31m    token = util.prompt_for_user_token(username, scope, client_id, client_secret, redirect_uri='http://localhost:/callback',cache_path)\u001b[0m\n\u001b[0m                                                                                                                           ^\u001b[0m\n\u001b[0;31mSyntaxError\u001b[0m\u001b[0;31m:\u001b[0m positional argument follows keyword argument\n"
     ]
    }
   ],
   "source": [
    "import sys\n",
    "import spotipy\n",
    "import spotipy.util as util\n",
    "\n",
    "client_id = 'e643f7df10314258ad94a7f1778995f0'\n",
    "client_secret = 'b72131ac34604679880abe5d9801e677'\n",
    "redirect_uri = 'http://localhost:/callback'\n",
    "\n",
    "# set environment variables\n",
    "#os.environ[\"SPOTIPY_CLIENT_ID\"] = 'e643f7df10314258ad94a7f1778995f0'\n",
    "#os.environ[\"SPOTIPY_CLIENT_SECRET\"] = 'd0df74b6e1f04e4ba09c702a278c12cb'\n",
    "#os.environ[\"SPOTIPY_REDIRECT_URI\"] = 'http://localhost/'\n",
    "\n",
    "username='shukls'\n",
    "scope = 'playlist-read-private'\n",
    "#'user-library-read playlist-read-private'\n",
    "# https://developer.spotify.com/web-api/using-scopes/\n",
    "\n",
    "if len(sys.argv) > 1:\n",
    "    username = sys.argv[1]\n",
    "else:\n",
    "    #print \"Usage: %s username\" % (sys.argv[0],)\n",
    "    sys.exit()\n",
    "    \n",
    "cache_path = None or \".cache-shukls\"\n",
    "#sp_oauth = oauth2.SpotifyOAuth(client_id, client_secret, redirect_uri, scope=scope, cache_path=cache_path)\n",
    "\n",
    "#token = sp_oauth.get_cached_token()\n",
    "    \n",
    "token = util.prompt_for_user_token(username, scope, client_id, client_secret, redirect_uri='http://localhost:/callback',cache_path)\n",
    "\n",
    "if token:\n",
    "    sp = spotipy.Spotify(auth=token)\n",
    "    results = sp.current_user_saved_tracks()\n",
    "    for item in results['items']:\n",
    "        track = item['track']\n",
    "        print(track['name'] + ' - ' + track['artists'][0]['name'])\n",
    "else:\n",
    "    print(\"Can't get token for\", username)"
   ]
  },
  {
   "cell_type": "code",
   "execution_count": 22,
   "metadata": {},
   "outputs": [],
   "source": [
    "import spotipy\n",
    "from spotipy.oauth2 import SpotifyClientCredentials\n",
    "\n",
    "client_id = 'e643f7df10314258ad94a7f1778995f0'\n",
    "client_secret = 'b72131ac34604679880abe5d9801e677'\n",
    "redirect_uri = 'http://localhost:/callback'\n",
    "\n",
    "client_credentials_manager = SpotifyClientCredentials()\n",
    "sp = spotipy.Spotify(client_credentials_manager=client_credentials_manager)\n",
    "playlists = sp.user_playlists('spotify') while playlists:\n",
    "for i, playlist in enumerate(playlists['items']):\n",
    "print(\"%4d %s %s\" % (i + 1 + playlists['offset'], playlist['uri'], playlist[\n",
    "˓→'name']))\n",
    "if playlists['next']:\n",
    "playlists = sp.next(playlists) else:\n",
    "playlists = None"
   ]
  },
  {
   "cell_type": "code",
   "execution_count": null,
   "metadata": {
    "collapsed": true
   },
   "outputs": [],
   "source": []
  }
 ],
 "metadata": {
  "kernelspec": {
   "display_name": "Python 3",
   "language": "python",
   "name": "python3"
  },
  "language_info": {
   "codemirror_mode": {
    "name": "ipython",
    "version": 3
   },
   "file_extension": ".py",
   "mimetype": "text/x-python",
   "name": "python",
   "nbconvert_exporter": "python",
   "pygments_lexer": "ipython3",
   "version": "3.6.3"
  }
 },
 "nbformat": 4,
 "nbformat_minor": 2
}
