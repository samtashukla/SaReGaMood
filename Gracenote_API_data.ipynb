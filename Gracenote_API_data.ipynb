{
 "cells": [
  {
   "cell_type": "markdown",
   "metadata": {},
   "source": [
    "\n",
    "# Python API\n",
    "Using pygn from https://github.com/cweichen/pygn"
   ]
  },
  {
   "cell_type": "code",
   "execution_count": 294,
   "metadata": {
    "collapsed": true
   },
   "outputs": [],
   "source": [
    "import sys\n",
    "\n",
    "import numpy as np\n",
    "import pandas as pd\n",
    "import datetime\n",
    "import time\n",
    "\n",
    "# music api imports\n",
    "import spotipy\n",
    "import spotipy.util as util\n",
    "import pygn\n",
    "#import pylast\n",
    "\n",
    "# import requests\n",
    "#import requests\n",
    "#import re\n",
    "from time import sleep\n",
    "import pickle\n",
    "\n",
    "# import python files\n",
    "import dbutils\n",
    "\n",
    "import matplotlib.pyplot as plt\n",
    "import seaborn as sns\n",
    "%matplotlib inline\n",
    "\n"
   ]
  },
  {
   "cell_type": "code",
   "execution_count": 297,
   "metadata": {
    "collapsed": true
   },
   "outputs": [],
   "source": [
    "clientID = '18404282-D215A8393036073C7D4008B567ADB278' # Enter your Client ID here\n",
    "#userID = pygn.register(clientID)\n",
    "userID= '91860226739687882-7862D6C2BEF5300543BC0BFE3BE6F36D'"
   ]
  },
  {
   "cell_type": "code",
   "execution_count": 298,
   "metadata": {
    "collapsed": true
   },
   "outputs": [],
   "source": [
    "def get_full_path():\n",
    "    return \"/Users/feelharmonic/Dropbox/Insight2018/SaReGaMood/IndianClassicalMusic/Week2/playlist_data\""
   ]
  },
  {
   "cell_type": "code",
   "execution_count": 299,
   "metadata": {
    "collapsed": true
   },
   "outputs": [],
   "source": [
    "metadata = pygn.search(clientID=clientID, userID=userID, artist='Kings Of Convenience', album='Riot On An Empty Street', track='Homesick')"
   ]
  },
  {
   "cell_type": "markdown",
   "metadata": {},
   "source": [
    "The search function requires a clientID, userID, and at least one of either artist, album, or track to be specified."
   ]
  },
  {
   "cell_type": "code",
   "execution_count": 300,
   "metadata": {
    "collapsed": true
   },
   "outputs": [],
   "source": [
    "metadata = pygn.search(clientID=clientID, userID=userID, artist='Jaga Jazzist', album='What We Must')\n",
    "#print(metadata)"
   ]
  },
  {
   "cell_type": "code",
   "execution_count": 301,
   "metadata": {
    "collapsed": true
   },
   "outputs": [],
   "source": [
    "# timing function\n",
    "def timefunc(f):\n",
    "    def f_timer(*args, **kwargs):\n",
    "        start = time.time()\n",
    "        result = f(*args, **kwargs)\n",
    "        end = time.time()\n",
    "        print(f.__name__, 'took', end - start, 'seconds')\n",
    "        return result\n",
    "    return f_timer"
   ]
  },
  {
   "cell_type": "code",
   "execution_count": 302,
   "metadata": {
    "collapsed": true
   },
   "outputs": [],
   "source": [
    "# Setting up tokens and authorization\n",
    "\n",
    "# Gracenote\n",
    "clientid = '18404282-D215A8393036073C7D4008B567ADB278'\n",
    "# userid = pygn.register(clientid)\n",
    "userid = '40350305677161399-FBEEF011A5EE5144578CE45E3A2EC94D'\n",
    "\n"
   ]
  },
  {
   "cell_type": "code",
   "execution_count": 303,
   "metadata": {
    "collapsed": true
   },
   "outputs": [],
   "source": [
    "# Get track info from gracenote\n",
    "# NOTE: Gracenote API has built-in fuzzy matching to artist and track.\n",
    "from collections import defaultdict\n",
    "\n",
    "def get_gn_multiple(search, dictionary, item):\n",
    "    '''\n",
    "    Helper function to get multiple items within Gracenote record\n",
    "    '''\n",
    "    #print(\"~~~~~~\", \"item = \", str(item), \"\\n\", \"searchitem = \", str(search[item]), \"~~~~~~\\n\")\n",
    "    #for i in search[item].iteritems():\n",
    "    #    print(\"itemi[0] =\", item + \"_\"+i[0])\n",
    "    #    print(\"i1text =\", i[1]['TEXT'])\n",
    "    #    dictionary[item + '_' + i[0]] = i[1]['TEXT']\n",
    "    for k, v in search[item].items():\n",
    "        #print(\"k, v = \", k, v)\n",
    "        dictionary[item + '_' + k] = v['TEXT']\n",
    "\n",
    "def get_gn(artist, track):\n",
    "    '''\n",
    "    Gets artist and track information from Gracenote\n",
    "    '''\n",
    "    gn_dict = defaultdict(list)\n",
    "    gn_info = pygn.search(clientid, userid, artist=artist, track=track)\n",
    "    #print(\"gn_info = \", str(gn_info))\n",
    "\n",
    "    gn_dict['gnid'] = gn_info['track_gnid']\n",
    "#     print(\"gn_info = \", str(gn_info))\n",
    "    #print(\"gn_dict = \", str(gn_dict), \"======\\n\")\n",
    "\n",
    "    # artist specific info\n",
    "    # for a in ['artist_origin', 'artist_type', 'artist_era']:\n",
    "    #    get_gn_multiple(gn_info, gn_dict, a)\n",
    "    \n",
    "    # track specific info\n",
    "#     for s in ['genre', 'mood', 'tempo']: # can potentially drop 'tempo' since Spotify has already captured this\n",
    "    for s in ['mood']:  \n",
    "        #print(\"Getting moody stuff\")\n",
    "        get_gn_multiple(gn_info, gn_dict, s)      \n",
    "\n",
    "#     print(\"gn_dict = \", str(gn_dict), \"======\\n\")\n",
    "    return dict(gn_dict)"
   ]
  },
  {
   "cell_type": "code",
   "execution_count": 304,
   "metadata": {
    "collapsed": true
   },
   "outputs": [],
   "source": [
    "@timefunc\n",
    "def append_gn_df(df):\n",
    "    '''\n",
    "    Creates dataframe with artist and track information from Gracenote\n",
    "    '''\n",
    "    d = {}\n",
    "    for index, row in df.iterrows():\n",
    "        try:\n",
    "            d[row['id']] = get_gn(row['artist_name'], row['name'])\n",
    "        except:\n",
    "            print(\"Some issue in append_gn_df\")\n",
    "            pass\n",
    "    gn_df = pd.DataFrame(d).transpose().reset_index()\n",
    "    gn_df = gn_df.rename(columns = {'index' : 'id'})\n",
    "    return gn_df"
   ]
  },
  {
   "cell_type": "code",
   "execution_count": 305,
   "metadata": {
    "collapsed": true
   },
   "outputs": [],
   "source": [
    "@timefunc\n",
    "def chunk_gn_df(df, start, stop, step=100):\n",
    "    '''\n",
    "    Gets Gracenote dataframe from dataframe with spotify IDs and merges them, indexing based on Spotify dataframe\n",
    "    '''\n",
    "    full_songs = pd.DataFrame()\n",
    "    for i in range(start, stop, step):\n",
    "        myslice = [x for x in range(i, i+step)]\n",
    "        gn = append_gn_df(df.iloc[myslice])\n",
    "        print(\"gn = \", str(gn), \"==================\")\n",
    "        data = pd.merge(df, gn, on='id')\n",
    "        full_songs = full_songs.append(data, ignore_index=True)\n",
    "        sleep(.1)"
   ]
  },
  {
   "cell_type": "code",
   "execution_count": 306,
   "metadata": {
    "collapsed": true
   },
   "outputs": [],
   "source": [
    "con = dbutils.get_db_handle()\n",
    "#querystr = \"select id, name, artist_name from alltracks where name like \\'%Tarana%\\' OR name like \\'%Tillana%\\' OR name like \\'%Thillana%\\'\"\n",
    "querystr = \"select id, name, artist_name from alltracks where name like \\'%Alap%\\' OR name like \\'%Khayal%\\' OR name like \\'%Khyal%\\'\"\n",
    "df = dbutils.query_db_translate_to_pandas(con, querystr)\n",
    "# print(df.to_string())\n",
    "dbutils.close_db(con)"
   ]
  },
  {
   "cell_type": "code",
   "execution_count": 275,
   "metadata": {},
   "outputs": [
    {
     "name": "stdout",
     "output_type": "stream",
     "text": [
      "append_gn_df took 6.29734992980957 seconds\n",
      "append_gn_df took 70.43506002426147 seconds\n"
     ]
    }
   ],
   "source": [
    "test = df[:10].copy()\n",
    "test_gn_df = append_gn_df(test)\n",
    "test2 = df[:100].copy()\n",
    "test_gn_df2 = append_gn_df(test2)"
   ]
  },
  {
   "cell_type": "code",
   "execution_count": 276,
   "metadata": {
    "scrolled": false
   },
   "outputs": [
    {
     "name": "stdout",
     "output_type": "stream",
     "text": [
      "(1377, 3)\n"
     ]
    }
   ],
   "source": [
    "print(df.shape)"
   ]
  },
  {
   "cell_type": "code",
   "execution_count": 307,
   "metadata": {
    "scrolled": true
   },
   "outputs": [
    {
     "name": "stdout",
     "output_type": "stream",
     "text": [
      "(80, 3)\n",
      "append_gn_df took 28.357304096221924 seconds\n",
      "gn =                          id                                        gnid  \\\n",
      "0   0KYXDtD08zE6EeeRQHJp1l   96995694-A3125A24F4F157CD43F10F33E3BD6435   \n",
      "1   0OA8aB0Af365psj1jIKF8R    4951315-0AA9B2427BFEF9E5763A72676EB1ADDA   \n",
      "2   0SrZTZKPplckh7ZIfJ1DTR  396822763-0AFEB1337DFB8137FC3CC5F6AA9E1C5D   \n",
      "3   0UtucXLVbm7CNwS8O49zMJ  172181751-1D65913E472E661F01C40B25E1FBFAD4   \n",
      "4   0W5FwN9zG4qyHpQYP0cAHC   81004917-8A8DCD1E864526B8BBB62A364CB63CB6   \n",
      "5   0hewhn6vFioyvZJHKNn6ZS  142133950-4C17EB83B336AB33619204B8649946F6   \n",
      "6   0n3inpHtzX9fGqx14Lrm5z  429990310-698EB8424A51B737764DE6528F8A6A69   \n",
      "7   0rIRZgSzBQEwrsjK36mJ2O    5733348-6C8182FA80CFDA1CF36264AD67549B26   \n",
      "8   0z5yfdMQtOxLDXlGrIODRA  511695057-95325C34532B3A7F201FADE52D993D60   \n",
      "9   14Yppg7V9X8gfJn1fSuimm  122707841-789A410EEA9ED723DAF215C452F513D4   \n",
      "10  1bzr2d23lvzACpFcNRg7dd  515565972-49CC18ED21F2CC53EE91A34B8C001DF9   \n",
      "11  1oi4Iwkv9MN65QmQVYGnaW    3674600-8EB239261482267D1DA9581FCD5FE51C   \n",
      "12  1v7hb0IjIyzmeaDJy6lsB5  136814019-9BA1B5D1668214B130391A18BC42B465   \n",
      "13  1vvUxhf7qRYZL5387EgEqR  564123119-217AAAC7722955E81328C309C7DB7C03   \n",
      "14  2Se1MqLLHOo44BWF94S9sp   31240023-05BB0EFD1B779A87DEFBCF563F32203C   \n",
      "15  2fLqYcW2BSFjrkBLMcWb0Q  485254889-4882F1C10069F8D7EBA991B9305AB7FE   \n",
      "16  2i0f25sg3nmgZIpOPMziad  349401218-41E101BFA2116FB0A7A59AF8B3E77B75   \n",
      "17  3Y2vHCuuHe9o3ijLA0f8B9   40551851-79C877244A7A587C56BF4D70FC4C9D99   \n",
      "18  3a9XtNboaANi0w3fZGhnKK   12992289-3F2FDF52D89DAAB0C845AEFD7213C58F   \n",
      "19  3fnDQttjyxCPBH7uI5PRgy   54959257-7360E72C9D49635EB3BC7818426F9A07   \n",
      "20  3yVtxF7VMXYavMFkwThyob  633257754-683F4ACCE5EBD8099BA37337EB9D3C2C   \n",
      "21  45m7EQFCZH6mO7YzxCd3uG  633257753-62EA7C60697B28E0890DC143C47869BC   \n",
      "22  4Z6yyOVZT5LwrsqbChm8tW   52506868-B4FCAD4BA49B35842E3B4E562246537C   \n",
      "23  4gS5HP7W2K6hPi1DKRJDSt   13084164-0F7D21E4D471BCA627FD712C876E4D82   \n",
      "24  4odXgpDZPaIsVK20yYxaoV   31240537-5336C141500B3F408B437BED896077CB   \n",
      "25  500M76wSnkCxRfBSJFJ6CV   71830490-6AB8EDE0E3E89110BD63C0D9995A5725   \n",
      "26  52P84DTJSZtzCOq02mLsNl   40423489-897664A105ABC05D9B28D61479F61C24   \n",
      "27  5BdeQhaGF1Ohh7eQ1C9XG4  216479833-86C9B459111BD20364849EB87586767C   \n",
      "28  5QSIcpdFBsdzaYZhHgCTwH    5733348-6C8182FA80CFDA1CF36264AD67549B26   \n",
      "29  5kGegFP2p8CifAD5nnDWnt  564123117-0001751326DE42B7345A72C606CE9CD4   \n",
      "30  5qYnfIR7QVxK7Q3ZtxGuvU   13084164-0F7D21E4D471BCA627FD712C876E4D82   \n",
      "31  5xo6DGU4T0VAMZskIADqHq   34301521-5AC4CB0769019461D17D2A99E938F6D4   \n",
      "32  6PbwTf3bXyyQD53mlQGsQ3   43968539-926A4815CD86EE337E0AE3B945DF89D1   \n",
      "33  6imQ2eamWdJ6vFTIoQZGD2  437017010-176FF8F212E9FABA3761937FC9320067   \n",
      "34  6jCMpgXNqz3haixD4u5ZVi  541200353-8E97E06B2DD8814A417D5045A47770D2   \n",
      "35  6pABGyScqkMTvMYJGNj8TH   32876791-A93FBF97CE53A0486F244797E95FA48E   \n",
      "36  6wPvgpoaCH6fVRyC0KAOPl   40868154-D4336337BC00BBDAF0BF19606615A7CC   \n",
      "37  7AmJrm72b9Fl3eMOSU2O7v   40372022-FBB875EE1790C0BE78B6C68F821465EA   \n",
      "38  7rv9BkFvHDmAWPNRlonExb  201258233-6C2AC579B03BBA7D25A15273D6169C71   \n",
      "39  7uHdAivu6aX9YIE8cVEoqL  564123123-2E5ED21CBD21116963E9C76D11384588   \n",
      "\n",
      "       mood_1                  mood_2  \n",
      "0    Peaceful   Quiet / Introspective  \n",
      "1     Serious      Serious / Cerebral  \n",
      "2         NaN                     NaN  \n",
      "3    Peaceful   Quiet / Introspective  \n",
      "4    Peaceful   Quiet / Introspective  \n",
      "5    Peaceful   Quiet / Introspective  \n",
      "6         NaN                     NaN  \n",
      "7      Somber        Creepy / Ominous  \n",
      "8    Peaceful   Quiet / Introspective  \n",
      "9      Somber      Solemn / Spiritual  \n",
      "10    Sensual            Dreamy Pulse  \n",
      "11     Somber      Solemn / Spiritual  \n",
      "12   Peaceful   Quiet / Introspective  \n",
      "13  Easygoing    Charming / Easygoing  \n",
      "14   Peaceful   Quiet / Introspective  \n",
      "15   Peaceful   Quiet / Introspective  \n",
      "16   Peaceful   Quiet / Introspective  \n",
      "17        NaN                     NaN  \n",
      "18    Serious         Hypnotic Rhythm  \n",
      "19   Peaceful   Quiet / Introspective  \n",
      "20    Serious         Hypnotic Rhythm  \n",
      "21    Serious         Hypnotic Rhythm  \n",
      "22   Peaceful   Quiet / Introspective  \n",
      "23   Peaceful   Quiet / Introspective  \n",
      "24   Peaceful   Quiet / Introspective  \n",
      "25     Somber        Creepy / Ominous  \n",
      "26   Peaceful   Quiet / Introspective  \n",
      "27      Fiery  Dark Sparkling Lyrical  \n",
      "28     Somber        Creepy / Ominous  \n",
      "29     Gritty        Gritty / Soulful  \n",
      "30   Peaceful   Quiet / Introspective  \n",
      "31   Peaceful   Quiet / Introspective  \n",
      "32   Peaceful   Quiet / Introspective  \n",
      "33   Peaceful   Quiet / Introspective  \n",
      "34   Peaceful   Quiet / Introspective  \n",
      "35   Peaceful   Quiet / Introspective  \n",
      "36   Peaceful   Quiet / Introspective  \n",
      "37        NaN                     NaN  \n",
      "38        NaN                     NaN  \n",
      "39  Easygoing      Cheerful / Playful   ==================\n",
      "append_gn_df took 32.590147972106934 seconds\n",
      "gn =                          id                                        gnid  \\\n",
      "0   0CwBcrlQO7hnhy4jUFykyU   13287284-ADD4423E4B4986BE9A282B88CCEEFF1B   \n",
      "1   0Mge6zJplXnVRFtoMduD16   80151483-CEE63395F940A379CF37DEABB13C20A6   \n",
      "2   0clbyogOyFWWzpSkOr6k8n   80151475-AA618D8537A8B7BD18C1F9A4321B2FA9   \n",
      "3   18b1SokTR7GDFRXm5XVSVB  483736107-5C82627653FBCEF7A079478D7BE50527   \n",
      "4   1P1K6R9QoB9RQsqJKtXBys  554673767-4A4B23AC103179F9BD267DD725D70BE0   \n",
      "5   1k5S9zrbSGAQyV8yYNGLMM   80151479-021FC571E49C0D105ED73FE529C71E24   \n",
      "6   1pJ9sCufLiA3JS0fdRULz0   96995694-A3125A24F4F157CD43F10F33E3BD6435   \n",
      "7   2JyC3GS1g0MG6pVZsGJaOT  219486580-5BBC834975FA7E08F4D1DFFC406B1433   \n",
      "8   2MueaKbBr8FGUnYDmcV8qL    4409953-45F1BC93BE8D3A0E7A3434089CE5BD53   \n",
      "9   2dRQVuMDZ5Th2oiM2txWcv   80151481-DDB8E4A44A37B4F34FA16540044D1CC2   \n",
      "10  2fw0KTXIkDkQS2saPrv0EM    5273616-12E5B6D480B22AB77A434F44955E6C4A   \n",
      "11  2gjokf0OuZBxSF1gH2VBnI  241582032-AE07F7386BF6B565E8ADCAC19234A3D0   \n",
      "12  2hjv4Kkmo1yQ0AiexhhNOf  136921217-D633DC1E30B61E895E0AF1262B11EE9F   \n",
      "13  2lxuwZN8DjNftsRNr2e9qG  453238073-8F05D26D94F7E4528852B60A17673539   \n",
      "14  2uEw6XoQQx6NnQcLhpEnnx    4243379-EA5FD8575DBFE14A7807905CFA64F5D2   \n",
      "15  36vzxELcG9hROuj6w6d16p  136582173-31A63CEE090E853B4687F03213F651B2   \n",
      "16  3DjIgJ88mnM5d5FqSPsgml    5923877-C961D818BA0B2BAAC437DCD8293F8028   \n",
      "17  3nW2E8GJhM5oLQ5XOqFdfw  483736118-72CCEB0C5C850CF3DC9B6894F267EF19   \n",
      "18  3zhh6U4B1TdeZl8G7mUBvg  136582174-0B40B487975B9CD3297C05D25681FB19   \n",
      "19  4082d42kcNI74zlLqSo0r8   80151471-1C209E09254E73DC97AA840EB9C30D0E   \n",
      "20  486eqDU4HBV8ehkCQ5QVj2   54877042-9F4CEC915B363B57E7C8A11045C8E8F1   \n",
      "21  4FWB5SsLY1JrHj5lRZvXRQ  453238069-A37C2A18345B2E47EB7429EC258EE861   \n",
      "22  4GmrrNPLvFWG1eyM6bAPRh  453238072-17B66578DAB26A8C55AAC10C80ECA143   \n",
      "23  4VXkCcN0Rk0sIOrotrNsnD  111144716-BC914D05A4775114BEC0EDE4D0EC3B3B   \n",
      "24  4zK1wDPnmkPutQUOCNgJr7   16533889-D786A859F7776A0626257A2C87CB1C9B   \n",
      "25  53YY4BqCuvEmnmEYJQFqyv   80151473-3A8611986FFB4B834F549BEB1B765530   \n",
      "26  55KGVa8cfVTfQiiv6n6QwT    4409952-7D5C9E0677636EF47947349F686C69BA   \n",
      "27  55kIY3Tv89NXt6TJAQh2pj  136921216-2A67181ADFD5C86AD6FA8B76010E74A9   \n",
      "28  56eO82rBtEh1pZAy4YGwJk   13056508-EBBE7FE8FABCF078C19016209737277E   \n",
      "29  5FvcNxQuFCKUTrJXAJlui9   80151477-218091C031FC51BF631265D1ECD26DA5   \n",
      "30  5HAwOXtfVttyweZr3YDMsp    4409952-7D5C9E0677636EF47947349F686C69BA   \n",
      "31  5HnMM4UNKXBKRxSCTA4OoK  219486422-32AF5621E97150DB5D6CBE8F38CF5E2B   \n",
      "32  5kcSEeOfTj2DvZzKhLrv4y  124733162-F0FE4F772CFAE7C0D2ADA66EE89B5FB8   \n",
      "33  63z6udTbwcirEgEl5YG9Dz   96637744-54726A9F45F60C44AEF3359E95BF0099   \n",
      "34  6MpQ4HFRYEB03zVpuoKYrf  421946471-ABCA55A5F9EF3B61F105F8305A6E001B   \n",
      "35  6NpXDe4vxb6Fhj3NLbaJKi   16533889-D786A859F7776A0626257A2C87CB1C9B   \n",
      "36  6QHayxuopCq90i6YngKGbb  419702914-3EED63D1BAEA28C79FDD4AB18E1C7B3C   \n",
      "37  6rgjM26R3RqnJ2CkvNQDw3  483736108-83181CC0FF3B0393273123CBCA198C4C   \n",
      "38  6z2LwiOdHFUhPTvp3nxoNv   96637744-54726A9F45F60C44AEF3359E95BF0099   \n",
      "39  7kHtYxfaqQ9IOwkPeCXPgH   16533889-D786A859F7776A0626257A2C87CB1C9B   \n",
      "\n",
      "           mood_1                  mood_2  \n",
      "0        Peaceful   Quiet / Introspective  \n",
      "1      Melancholy       Wistful / Forlorn  \n",
      "2        Peaceful   Quiet / Introspective  \n",
      "3         Serious         Hypnotic Rhythm  \n",
      "4        Peaceful   Quiet / Introspective  \n",
      "5        Peaceful   Quiet / Introspective  \n",
      "6        Peaceful   Quiet / Introspective  \n",
      "7         Serious         Hypnotic Rhythm  \n",
      "8         Serious         Hypnotic Rhythm  \n",
      "9        Peaceful   Quiet / Introspective  \n",
      "10       Peaceful   Quiet / Introspective  \n",
      "11       Peaceful   Quiet / Introspective  \n",
      "12       Peaceful   Quiet / Introspective  \n",
      "13            NaN                     NaN  \n",
      "14       Peaceful   Quiet / Introspective  \n",
      "15          Fiery  Dark Sparkling Lyrical  \n",
      "16       Peaceful   Quiet / Introspective  \n",
      "17      Easygoing      Cheerful / Playful  \n",
      "18          Fiery  Dark Sparkling Lyrical  \n",
      "19       Peaceful   Quiet / Introspective  \n",
      "20       Peaceful   Quiet / Introspective  \n",
      "21            NaN                     NaN  \n",
      "22            NaN                     NaN  \n",
      "23            NaN                     NaN  \n",
      "24        Serious         Hypnotic Rhythm  \n",
      "25       Peaceful   Quiet / Introspective  \n",
      "26        Serious         Hypnotic Rhythm  \n",
      "27         Somber        Creepy / Ominous  \n",
      "28       Peaceful   Quiet / Introspective  \n",
      "29     Empowering        Dramatic Emotion  \n",
      "30        Serious         Hypnotic Rhythm  \n",
      "31        Serious         Hypnotic Rhythm  \n",
      "32       Peaceful   Quiet / Introspective  \n",
      "33       Peaceful   Quiet / Introspective  \n",
      "34       Peaceful   Quiet / Introspective  \n",
      "35        Serious         Hypnotic Rhythm  \n",
      "36  Sophisticated            Dark Playful  \n",
      "37         Somber  Enigmatic / Mysterious  \n",
      "38       Peaceful   Quiet / Introspective  \n",
      "39        Serious         Hypnotic Rhythm   ==================\n",
      "chunk_gn_df took 61.1748480796814 seconds\n"
     ]
    }
   ],
   "source": [
    "test3 = df[:80].copy()\n",
    "print(test3.shape)\n",
    "test = chunk_gn_df(test3, 0, test3.shape[0], 40)\n",
    "# print(test3)"
   ]
  },
  {
   "cell_type": "code",
   "execution_count": null,
   "metadata": {
    "collapsed": true
   },
   "outputs": [],
   "source": []
  },
  {
   "cell_type": "code",
   "execution_count": null,
   "metadata": {
    "collapsed": true
   },
   "outputs": [],
   "source": []
  }
 ],
 "metadata": {
  "kernelspec": {
   "display_name": "Python 3",
   "language": "python",
   "name": "python3"
  },
  "language_info": {
   "codemirror_mode": {
    "name": "ipython",
    "version": 3
   },
   "file_extension": ".py",
   "mimetype": "text/x-python",
   "name": "python",
   "nbconvert_exporter": "python",
   "pygments_lexer": "ipython3",
   "version": "3.6.3"
  }
 },
 "nbformat": 4,
 "nbformat_minor": 2
}
