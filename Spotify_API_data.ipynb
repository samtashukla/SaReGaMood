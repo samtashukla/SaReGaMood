{
 "cells": [
  {
   "cell_type": "code",
   "execution_count": 15,
   "metadata": {
    "collapsed": true
   },
   "outputs": [],
   "source": [
    "import sys\n",
    "\n",
    "import numpy as np\n",
    "import pandas as pd\n",
    "import datetime\n",
    "import time\n",
    "\n",
    "# music api imports\n",
    "import spotipy\n",
    "import spotipy.util as util\n",
    "import pygn\n",
    "\n",
    "import dbutils\n",
    "\n",
    "from time import sleep\n"
   ]
  },
  {
   "cell_type": "code",
   "execution_count": 28,
   "metadata": {
    "collapsed": true
   },
   "outputs": [],
   "source": [
    "# Setting up tokens and authorization - hidden for github, use own tokens\n",
    "# spotify\n",
    "# if token expired, get it from here: https://developer.spotify.com/web-api/console/get-audio-features-several-tracks/#complete\n",
    "# use these as track ids: 00UcJ7vTs2venzjRkSHzks, 00fJ7w7yVcBSdMvzV0cS41\n",
    "spotify = spotipy.Spotify(auth='BQC4ixCcuiI42KsFhV6asMyO4BJZQDA3tchC2L_BN_-dda0FnehIzbBjSzV4yODL3NvQUBrsaelNhzpP0NS-7-f-Oq1n80bFnvv4UWazs_uIphY8KUKoUtUzbvGMW2lITnSabacSQ5stuO0_xD1cSOk5D6Kgimw')\n",
    "\n",
    "# gracenote\n",
    "clientid = '18404282-D215A8393036073C7D4008B567ADB278' # Enter your Client ID here\n",
    "# userid = pygn.register(clientid)\n",
    "userid = '91860226739687882-7862D6C2BEF5300543BC0BFE3BE6F36D'"
   ]
  },
  {
   "cell_type": "code",
   "execution_count": 17,
   "metadata": {},
   "outputs": [
    {
     "data": {
      "text/plain": [
       "{'album_art_url': 'http://akamai-b.cdn.cddbp.net/cds/2.0/cover/0EA1/E765/D40E/462C_medium_front.jpg?cid=18404282',\n",
       " 'album_artist_name': 'Zara Larsson',\n",
       " 'album_gnid': '700241972-A4980D93DE119D5295F7AA2F9BB52D01',\n",
       " 'album_title': 'So Good',\n",
       " 'album_year': '2017',\n",
       " 'artist_bio_url': '',\n",
       " 'artist_era': {'1': {'ID': '42877', 'TEXT': '2010s'}},\n",
       " 'artist_image_url': 'http://akamai-b.cdn.cddbp.net/cds/2.0/image-artist/7133/8F9B/C00C/4E38_medium_front.jpg?cid=18404282',\n",
       " 'artist_origin': {'1': {'ID': '29896', 'TEXT': 'Scandinavia'},\n",
       "  '2': {'ID': '29991', 'TEXT': 'Sweden'},\n",
       "  '4': {'ID': '30894', 'TEXT': 'Stockholm'}},\n",
       " 'artist_type': {'1': {'ID': '29423', 'TEXT': 'Female'},\n",
       "  '2': {'ID': '29443', 'TEXT': 'Female'}},\n",
       " 'genre': {'1': {'ID': '35469', 'TEXT': 'Pop'},\n",
       "  '2': {'ID': '35493', 'TEXT': 'Western Pop'},\n",
       "  '3': {'ID': '25637', 'TEXT': 'Dance Pop'}},\n",
       " 'mood': {'1': {'ID': '42961', 'TEXT': 'Energizing'},\n",
       "  '2': {'ID': '43056', 'TEXT': 'Edgy / Sexy'}},\n",
       " 'radio_id': '',\n",
       " 'review_url': '',\n",
       " 'tempo': {'1': {'ID': '34283', 'TEXT': 'Medium Tempo'},\n",
       "  '2': {'ID': '34291', 'TEXT': 'Medium Fast'},\n",
       "  '3': {'ID': '34318', 'TEXT': '90s'}},\n",
       " 'track_artist_name': '',\n",
       " 'track_gnid': '700241974-B91A408DC724AEF0AA0BE0246273E9E8',\n",
       " 'track_number': '2',\n",
       " 'track_title': 'Lush Life',\n",
       " 'tracks': [{'mood': {'1': {'ID': '42961', 'TEXT': 'Energizing'},\n",
       "    '2': {'ID': '43056', 'TEXT': 'Edgy / Sexy'}},\n",
       "   'tempo': {'1': {'ID': '34283', 'TEXT': 'Medium Tempo'},\n",
       "    '2': {'ID': '34291', 'TEXT': 'Medium Fast'},\n",
       "    '3': {'ID': '34318', 'TEXT': '90s'}},\n",
       "   'track_artist_name': '',\n",
       "   'track_gnid': '700241974-B91A408DC724AEF0AA0BE0246273E9E8',\n",
       "   'track_number': '2',\n",
       "   'track_title': 'Lush Life'}],\n",
       " 'xid': ''}"
      ]
     },
     "execution_count": 17,
     "metadata": {},
     "output_type": "execute_result"
    }
   ],
   "source": [
    "# Examples of gracenote fuzzy match & full records\n",
    "song1 = pygn.search(clientid, userid, artist='Zara', track='Lush')\n",
    "song2 = pygn.search(clientid, userid, artist='The Chainsmokers', track='Closer')\n",
    "\n",
    "song1"
   ]
  },
  {
   "cell_type": "code",
   "execution_count": 18,
   "metadata": {
    "collapsed": true
   },
   "outputs": [],
   "source": [
    "moods = {'Pastoral / Serene':[0,0], 'Delicate / Tranquil':[0,1], 'Hopeful / Breezy':[0,2], 'Cheerful / Playful':[0,3],\n",
    "         'Carefree Pop':[0,4], 'Party / Fun':[0,5], 'Showy / Rousing':[0,6], 'Lusty / Jaunty':[0,7], \n",
    "         'Loud Celebratory':[0,8], 'Euphoric Energy':[0,9], 'Reverent / Healing':[1,0], 'Quiet / Introspective':[1,1],\n",
    "         'Friendly':[1,2], 'Charming / Easygoing':[1,3], 'Soulful / Easygoing':[1,4], 'Happy / Soulful':[1,5],\n",
    "         'Playful / Swingin':[1,6], 'Exuberant / Festive':[1,7], 'Upbeat Pop Groove':[1,8], 'Happy Excitement':[1,9],\n",
    "         'Refined / Mannered':[2,0], 'Awakening / Stately':[2,1], 'Sweet / Sincere':[2,2], 'Heartfelt Passion':[2,3], \n",
    "         'Strong / Stable':[2,4], 'Powerful / Heroic':[2,5], 'Invigorating / Joyous':[2,6], 'Jubilant / Soulful':[2,7],\n",
    "         'Ramshackle / Rollicking':[2,8], 'Wild / Rowdy':[2,9], 'Romantic / Lyrical':[3,0], 'Light Groovy':[3,1],\n",
    "         'Dramatic / Romantic':[3,2], 'Lush / Romantic':[3,3], 'Dramatic Emotion':[3,4], 'Idealistic / Stirring':[3,5],\n",
    "         'Focused Sparkling':[3,6], 'Triumphant / Rousing':[3,7], 'Confident / Tough':[3,8], \n",
    "         'Driving Dark Groove':[3,9], 'Tender / Sincere':[4,0], 'Gentle Bittersweet':[4,1], 'Suave / Sultry':[4,2], \n",
    "         'Dark Playful':[4,3], 'Soft Soulful':[4,4], 'Sensual Groove':[4,5], 'Dark Sparkling Lyrical':[4,6], \n",
    "         'Fiery Groove':[4,7], 'Arousing Groove':[4,8], 'Heavy Beat':[4,9], 'Lyrical Sentimental':[5,0], \n",
    "         'Cool Melancholy':[5,1], 'Intimate Bittersweet':[5,2], 'Smoky / Romantic':[5,3], 'Dreamy Pulse':[5,4], \n",
    "         'Intimate Passionate':[5,5], 'Rhythm Energetic': [5,6], 'Abstract Groove':[5,7], 'Edgy / Sexy':[5,8], \n",
    "         'Abstract Beat':[5,9], 'Mysterious / Dreamy':[6,0], 'Light Melancholy':[6,1], 'Casual Groove':[6,2], \n",
    "         'Wary / Defiant':[6,3], 'Bittersweet Pop':[6,4], 'Energetic Yearning':[6,5], 'Dark Pop':[6,6], \n",
    "         'Dark Pop Intensity':[6,7], 'Heavy Brooding':[6,8], 'Hard Positive Excitement':[6,9], \n",
    "         'Wistful / Forlorn':[7,0], 'Sad / Soulful':[7,1], 'Cool Confidence':[7,2], 'Dark Groovy':[7,3], \n",
    "         'Sensitive / Exploring':[7,4], 'Energetic Dreamy':[7,5], 'Dark Urgent':[7,6], 'Energetic Anxious':[7,7], \n",
    "         'Attitude / Defiant':[7,8], 'Hard Dark Excitement':[7,9], 'Solemn / Spiritual':[8,0], \n",
    "         'Enigmatic / Mysterious':[8,1], 'Sober / Determined':[8,2], 'Strumming Yearning':[8,3], 'Melodramatic':[8,4], 'Hypnotic Rhythm':[8,5], 'Evocative / Intriguing':[8,6], 'Energetic Melancholy':[8,7], 'Dark Hard Beat':[8,8], 'Heavy Triumphant':[8,9], \n",
    "         'Dark Cosmic':[9,0], 'Creepy / Ominous':[9,1], 'Depressed / Lonely':[9,2], 'Gritty / Soulful':[9,3], \n",
    "         'Serious / Cerebral':[9,4], 'Thrilling':[9,5], 'Dreamy Brooding':[9,6], 'Alienated / Brooding':[9,7], \n",
    "         'Chaotic / Intense':[9,8], 'Aggressive Power':[9,9]}"
   ]
  },
  {
   "cell_type": "code",
   "execution_count": 19,
   "metadata": {},
   "outputs": [
    {
     "name": "stdout",
     "output_type": "stream",
     "text": [
      "100\n"
     ]
    }
   ],
   "source": [
    "print(len(moods))"
   ]
  },
  {
   "cell_type": "code",
   "execution_count": 29,
   "metadata": {},
   "outputs": [
    {
     "name": "stdout",
     "output_type": "stream",
     "text": [
      "88\n"
     ]
    }
   ],
   "source": [
    "con = dbutils.get_db_handle()\n",
    "querystr = \"select id, name, artist_name from alltracks where name like \\'%Khamaj%\\'\"\n",
    "df = dbutils.query_db_translate_to_pandas(con, querystr)\n",
    "# print(df.to_string())\n",
    "print(len(df))"
   ]
  },
  {
   "cell_type": "code",
   "execution_count": 30,
   "metadata": {
    "collapsed": true
   },
   "outputs": [],
   "source": [
    "def chunks(l, n):\n",
    "    n = max(1, n)\n",
    "    return [l[i:i+n] for i in range(0, len(l), n)]"
   ]
  },
  {
   "cell_type": "code",
   "execution_count": 43,
   "metadata": {
    "collapsed": true
   },
   "outputs": [],
   "source": [
    "# def complete_audio_features(df):\n",
    "#     features_list = []\n",
    "#     for idx, row in df.iterrows():#chunks(list(df.id),50):\n",
    "#         features_add = spotify.audio_features(tracks=row['id'])\n",
    "#         features_list.extend(features_add)\n",
    "#     return features_list"
   ]
  },
  {
   "cell_type": "code",
   "execution_count": 49,
   "metadata": {},
   "outputs": [],
   "source": [
    "def complete_audio_features(stuff):\n",
    "    features_list = []\n",
    "    #for idx, row in df.iterrows():#chunks(list(df.id),50):\n",
    "    features_add = spotify.audio_features(tracks=stuff)\n",
    "    features_list.extend(features_add)\n",
    "    return features_list"
   ]
  },
  {
   "cell_type": "code",
   "execution_count": 53,
   "metadata": {},
   "outputs": [
    {
     "name": "stdout",
     "output_type": "stream",
     "text": [
      "[{'danceability': 0.491, 'energy': 0.529, 'key': 6, 'loudness': -8.497, 'mode': 1, 'speechiness': 0.0371, 'acousticness': 0.934, 'instrumentalness': 0.779, 'liveness': 0.0572, 'valence': 0.355, 'tempo': 131.229, 'type': 'audio_features', 'id': '4eJ8C6nGTK7G8GtlgXpfW9', 'uri': 'spotify:track:4eJ8C6nGTK7G8GtlgXpfW9', 'track_href': 'https://api.spotify.com/v1/tracks/4eJ8C6nGTK7G8GtlgXpfW9', 'analysis_url': 'https://api.spotify.com/v1/audio-analysis/4eJ8C6nGTK7G8GtlgXpfW9', 'duration_ms': 1105907, 'time_signature': 3}] \n",
      "==========\n",
      "\n"
     ]
    }
   ],
   "source": [
    "# audio_features = complete_audio_features(df)\n",
    "for idx, row in df.iterrows():\n",
    "    audio_features = complete_audio_features(row['id'])\n",
    "    print(audio_features, \"\\n==========\\n\")\n",
    "    break"
   ]
  },
  {
   "cell_type": "code",
   "execution_count": null,
   "metadata": {
    "collapsed": true
   },
   "outputs": [],
   "source": []
  }
 ],
 "metadata": {
  "kernelspec": {
   "display_name": "Python 3",
   "language": "python",
   "name": "python3"
  },
  "language_info": {
   "codemirror_mode": {
    "name": "ipython",
    "version": 3
   },
   "file_extension": ".py",
   "mimetype": "text/x-python",
   "name": "python",
   "nbconvert_exporter": "python",
   "pygments_lexer": "ipython3",
   "version": "3.6.3"
  }
 },
 "nbformat": 4,
 "nbformat_minor": 2
}
