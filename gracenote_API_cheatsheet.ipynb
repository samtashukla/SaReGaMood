{
 "cells": [
  {
   "cell_type": "markdown",
   "metadata": {},
   "source": [
    "# Gracenote API cheatsheet\n",
    "\n",
    "Following instructions: https://developer.gracenote.com/rhythm-api\n",
    "See notepad for username, pass, and client ID-Tag\n",
    "\n",
    "Client ID-Tag: 18404282-D215A8393036073C7D4008B567ADB278\n",
    "\n",
    "User ID-Tag: 40350305677161399-FBEEF011A5EE5144578CE45E3A2EC94D\n",
    "\n",
    "## Register API call:\n",
    "https://c18404282.web.cddbp.net/webapi/json/1.0/register?client=18404282-D215A8393036073C7D4008B567ADB278\n",
    "\n",
    "\n",
    "## Creating a Station:\n",
    "\n",
    "### Get ALL genre labels:\n",
    "https://c18404282.web.cddbp.net/webapi/json/1.0/radio/fieldvalues?client=18404282-D215A8393036073C7D4008B567ADB278&user=40350305677161399-FBEEF011A5EE5144578CE45E3A2EC94D&fieldname=RADIOGENRE\n",
    "\n",
    "get genre label from above query and input below\n",
    "\n",
    "### Create Station\n",
    "https://c18404282.web.cddbp.net/webapi/json/1.0/radio/create?artist_name=led+zeppelin&genre=36060&client=18404282-D215A8393036073C7D4008B567ADB278&user=40350305677161399-FBEEF011A5EE5144578CE45E3A2EC94D\n",
    "\n",
    "This call returns a radio station ID, which you will need for all subsequent API calls affecting the station.\n",
    "\n",
    "### Tuning Your Station\n",
    "After your station is created, you can modify the following using the setting API call:\n",
    "\n",
    "Popularity - How popular your playlist tracks are on a scale of 1 to 1000 (most popular)\n",
    "Similarity - How similar your playlist tracks are on a scale of 1 to 1000 (most similar)\n",
    "Mood filter - You can filter your playlist with up to 25 moods\n",
    "For this exercise, we are going to adjust our station for mood, specifically, melancholy (reference value = 42949):\n",
    "\n",
    "https://c18404282.web.cddbp.net/webapi/json/1.0/radio/setting?radio_id=635832a2ad2b79106ce49e44991e03ca&filter_mood=42949&client=18404282-D215A8393036073C7D4008B567ADB278&user=40350305677161399-FBEEF011A5EE5144578CE45E3A2EC94D\n",
    "\n"
   ]
  },
  {
   "cell_type": "code",
   "execution_count": null,
   "metadata": {
    "collapsed": true
   },
   "outputs": [],
   "source": []
  }
 ],
 "metadata": {
  "kernelspec": {
   "display_name": "Python 3",
   "language": "python",
   "name": "python3"
  },
  "language_info": {
   "codemirror_mode": {
    "name": "ipython",
    "version": 3
   },
   "file_extension": ".py",
   "mimetype": "text/x-python",
   "name": "python",
   "nbconvert_exporter": "python",
   "pygments_lexer": "ipython3",
   "version": "3.6.3"
  }
 },
 "nbformat": 4,
 "nbformat_minor": 2
}
